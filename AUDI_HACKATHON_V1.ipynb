{
  "nbformat": 4,
  "nbformat_minor": 0,
  "metadata": {
    "colab": {
      "provenance": []
    },
    "kernelspec": {
      "name": "python3",
      "display_name": "Python 3"
    },
    "language_info": {
      "name": "python"
    },
    "gpuClass": "standard"
  },
  "cells": [
    {
      "cell_type": "markdown",
      "source": [
        "**AudiKI — Audi Wiki**\n",
        "\n",
        "Some examples of processes can include:\n",
        "\n",
        "\n",
        "*   Onboarding Information\n",
        "*   QA Information\n",
        "\n"
      ],
      "metadata": {
        "id": "lHAY4CSCN9Ok"
      }
    },
    {
      "cell_type": "markdown",
      "source": [
        "AudiKI, is a chatbot repository that aims to streamline information sharing and document retrieval processes within the organization. It provides a centralized location for all information related to internal processes, allowing employees to save time and effort in searching for necessary documents and information.\n",
        "\n",
        "Some examples of processes that can be included in AudiKI are onboarding information and quality assurance (QA) information. Onboarding information may include new employee orientation materials, training documents, and company policies and procedures. QA information may include quality control manuals, testing procedures, and reports.\n",
        "\n",
        "By utilizing chatbot technology, AudiKI can offer a user-friendly interface for employees to access information quickly and efficiently. The chatbot can be programmed to respond to natural language queries and provide relevant documents and information in real-time. This can significantly reduce the time and effort required to search for and retrieve information, allowing employees to focus on their core responsibilities.\n",
        "\n",
        "Furthermore, AudiKI can also be integrated with other systems and tools used by Audi, such as the company's intranet and document management systems. This integration can enable automatic updates and ensure that the information stored in AudiKI is always up-to-date and accurate.\n",
        "\n",
        "Overall, AudiKI has the potential to enhance efficiency and productivity within the organization by providing a centralized repository of information and streamlining information retrieval processes."
      ],
      "metadata": {
        "id": "sLlTPlGaRJoF"
      }
    },
    {
      "cell_type": "code",
      "source": [
        "!pip install pyvirtualdisplay"
      ],
      "metadata": {
        "colab": {
          "base_uri": "https://localhost:8080/"
        },
        "id": "HoR_ccMOr7bE",
        "outputId": "7118419f-29db-4c25-d8db-b47b78d20323"
      },
      "execution_count": 1,
      "outputs": [
        {
          "output_type": "stream",
          "name": "stdout",
          "text": [
            "Looking in indexes: https://pypi.org/simple, https://us-python.pkg.dev/colab-wheels/public/simple/\n",
            "Collecting pyvirtualdisplay\n",
            "  Downloading PyVirtualDisplay-3.0-py3-none-any.whl (15 kB)\n",
            "Installing collected packages: pyvirtualdisplay\n",
            "Successfully installed pyvirtualdisplay-3.0\n"
          ]
        }
      ]
    },
    {
      "cell_type": "code",
      "source": [
        "!brew install xvfb"
      ],
      "metadata": {
        "colab": {
          "base_uri": "https://localhost:8080/"
        },
        "id": "Ls21cFqnsPOV",
        "outputId": "7987622b-52e8-46ca-95f7-fbc08e755eff"
      },
      "execution_count": 2,
      "outputs": [
        {
          "output_type": "stream",
          "name": "stdout",
          "text": [
            "/bin/bash: brew: command not found\n"
          ]
        }
      ]
    },
    {
      "cell_type": "markdown",
      "source": [
        "## 1. Import Libraries"
      ],
      "metadata": {
        "id": "KZa9PkkSdktb"
      }
    },
    {
      "cell_type": "code",
      "source": [
        "import nltk\n",
        "from nltk.chat.util import Chat, reflections\n",
        "import tkinter as tk"
      ],
      "metadata": {
        "id": "YY9iLlJFdk13"
      },
      "execution_count": 3,
      "outputs": []
    },
    {
      "cell_type": "markdown",
      "source": [
        "## 2. Define the prompts and responses \n",
        "\n",
        "For presentation purposes"
      ],
      "metadata": {
        "id": "LjfYI2w7jhix"
      }
    },
    {
      "cell_type": "code",
      "source": [
        "pairs = [\n",
        "    [\"hi\", [\"Hello, how can I assist you?\"]],\n",
        "    [\"Hello\", [\"Hello, how can I assist you?\"]],\n",
        "    [\"Hi\", [\"Hello, how can I assist you?\"]],\n",
        "    [\"how are you\", [\"I'm doing well, thank you.\"]],\n",
        "    [\"How are you\", [\"I'm doing well, thank you.\"]],\n",
        "    [\"what is your name\", [\"My name is AudiKi. I'm a chatbot created to assist you with your onboarding and QA processes.\"]],\n",
        "    [\"What is your name\", [\"My name is AudiKi. I'm a chatbot created to assist you with your onboarding and QA processes.\"]],\n",
        "    [\"Thank you\", [\"You are welcome!\"]],\n",
        "    [\"What is your name?\", [\"My name is AudiKI.\"]],\n",
        "    [\"What are the key skills typically required by a mechanical engineering working on engines in Audi?\", [\"A mechanical engineer working on engines in Audi typically needs a combination of technical and interpersonal skills to be successful. Some key skills required for this role may include:\", \n",
        "                                                                                                            \"1. Strong knowledge of engine design and mechanics: The ability to understand the intricate workings of engines and diagnose issues is critical for success in this role. A solid foundation in mechanical engineering principles is essential.\",\n",
        "                                                                                                            \"2. Proficiency in CAD software: Audi mechanical engineers are expected to use computer-aided design (CAD) software to develop and refine engine designs.\",\n",
        "                                                                                                            \"3. Knowledge of software such as SolidWorks, CATIA, or Pro/Engineer is important.\",\n",
        "                                                                                                            \"4. Understanding of thermodynamics: A good understanding of thermodynamics is essential in engine design.\",\n",
        "                                                                                                            \"5. Engineers must be able to design engines that are efficient, reliable, and powerful.\",\n",
        "                                                                                                            \"6. Attention to detail: Engine design requires a high level of precision and attention to detail.\",\n",
        "                                                                                                            \"7. Engineers must be able to ensure that all parts are designed to exact specifications and that everything fits together perfectly.\",\n",
        "                                                                                                            \"Strong problem-solving skills: Mechanical engineers must be able to identify and solve problems quickly and efficiently. This requires a combination of analytical thinking, creativity, and the ability to work well under pressure. Effective communication skills: Engineers must be able to communicate effectively with other members of the team, as well as with suppliers and customers. The ability to explain complex technical concepts in simple terms is important. Teamwork and collaboration: Audi mechanical engineers work as part of a team, so the ability to collaborate effectively with others is essential. This includes being able to work well with people from different backgrounds and disciplines. Overall, a mechanical engineer working on engines in Audi needs a strong technical background, attention to detail, and the ability to work effectively as part of a team.\"]],\n",
        "    [\"Write a job description for a software engineer. The software engineers requires 2 years of experience and should at least hold a masters degree and having some knowledge of the automotive industry\", [\"A mechanical engineer working on engines in Audi typically needs a combination of technical and interpersonal skills to be successful. Some key skills required for this role may include:\", \n",
        "                                                                                                            \"Location: [City, State]\",\n",
        "                                                                                                            \"Job Type: Full-time\",\n",
        "                                                                                                            \"Experience: 2+ years\",\n",
        "                                                                                                            \"Education: Master's degree in Computer Science or related field\",\n",
        "                                                                                                            \"Industry Experience: Automotive industry knowledge preferred\",\n",
        "                                                                                                            \"Job Description:\",\n",
        "                                                                                                            \"We are seeking an experienced software engineer to join our team. As a software engineer, you will be responsible for designing, developing, and maintaining software applications that support our automotive products. You will work closely with other members of the team to ensure that our software meets the needs of our customers and delivers an outstanding user experience.\", \n",
        "                                                                                                            \"Responsibilities:\",\n",
        "                                                                                                            \"- Design, develop, and maintain software applications for automotive products\",\n",
        "                                                                                                            \"- Collaborate with other engineers to develop and implement software solutions\",\n",
        "                                                                                                            \"- Participate in code reviews and ensure that code is of high quality and meets industry standards\",\n",
        "                                                                                                            \"- Write clean, efficient, and well-documented code\",\n",
        "                                                                                                            \"-  Debug and troubleshoot software issues in a timely manner\",\n",
        "                                                                                                            \"- Work with cross-functional teams to develop and implement software requirements\",\n",
        "                                                                                                            \"- Keep up-to-date with emerging trends and technologies in software engineering and the automotive industry\",\n",
        "                                                                                                            \"Qualifications:\",\n",
        "                                                                                                            \"- Master's degree in Computer Science or related field\",\n",
        "                                                                                                            \"- 2+ years of experience in software engineering\",\n",
        "                                                                                                            \"- Knowledge of software development methodologies, languages, and tools\",\n",
        "                                                                                                            \"- Understanding of automotive industry trends and best practices\",\n",
        "                                                                                                            \"- Strong problem-solving and analytical skills\",\n",
        "                                                                                                            \"- Excellent written and verbal communication skills\",\n",
        "                                                                                                            \"- Ability to work collaboratively with cross-functional teams\",\n",
        "                                                                                                            \"- Experience with Agile development methodologies is a plus\",\n",
        "                                                                                                            \"We offer a competitive salary and benefits package, as well as opportunities for professional growth and development. If you are a skilled software engineer with a passion for the automotive industry, we encourage you to apply.\"]],\n",
        "         [\"Introduction to Rim-Designing within Audi\", [\"Audi is a company that is at the forefront of automotive innovation, always seeking new ways to improve the performance, efficiency, and design of their vehicles. One area where Audi has been particularly innovative is in the design of their car rims. Instead of relying solely on human designers, Audi has leveraged the power of artificial intelligence (AI) to generate unique and striking rim designs.\", \n",
        "                                                        \"The AI used by Audi is capable of creating rim designs by combining real images with the DNAs of previous designs. This approach allows for a high degree of customization and flexibility, as the AI can be trained on a wide range of design inputs and can generate countless unique designs that are tailored to the specific needs and preferences of Audi customers.\",\n",
        "                                                        \"By using AI to design their rims, Audi is able to push the boundaries of what is possible in terms of design, while also maintaining a high level of quality and consistency across their product lines. This innovative approach to rim design is just one example of how Audi is leveraging cutting-edge technology to stay ahead of the competition and deliver exceptional value to their customers.\"]],\n",
        "    [\"Provide me with a quality manual template for engine testing at Audi\", [\"Document Control Information:\",\n",
        "                                                                              \"- Document Title: Quality Manual for Engine Testing at Audi\",\n",
        "                                                                              \"- Document Owner: [Name of Audi Quality Manager]\",\n",
        "                                                                              \"- Approval Date: [Date of Approval]\",\n",
        "                                                                              \"- Revision History: [List of all revisions and changes made to the document]\",\n",
        "                                                                              \"- Distribution: [List of all recipients of the document]\",\n",
        "                                                                              \"Table of Contents:\",\n",
        "                                                                              \"- Introduction\",\n",
        "                                                                              \"- Purpose and Scope\",\n",
        "                                                                              \"- Responsibilities\",\n",
        "                                                                              \"- Process Flowchart\",\n",
        "                                                                              \"- Process Description\",\n",
        "                                                                              \"- Quality Management System\",\n",
        "                                                                              \"- Records\",\n",
        "                                                                              \"- Appendices\"]],\n",
        "    [\"What is the battery management system in an Audi car\", [\"Audi vehicles that use a battery, such as electric or hybrid models, are equipped with a battery management system (BMS) to ensure that the battery operates safely and efficiently. The BMS used in Audi cars is a complex electronic system that monitors and controls the battery's charging and discharging process.\",\n",
        "                                                              \"The Audi BMS constantly monitors the battery's state of charge, temperature, and voltage to ensure that it remains within safe operating limits. The system may also balance the battery cells to prevent premature aging and improve overall performance. Additionally, the BMS provides information to the driver or the vehicle's onboard computer about the battery's status, such as remaining range and estimated time until the battery needs to be recharged.\",\n",
        "                                                              \"Audi's BMS also includes various safety features, such as overcharge and over-discharge protection, to prevent damage to the battery and ensure that it operates safely. If any abnormal conditions are detected, such as a fault in the charging system or an overheating battery, the BMS may also provide warnings or shut down the battery to prevent further damage or potential safety risks.\",\n",
        "                                                              \"Overall, the battery management system is an essential component of electric and hybrid vehicles, including those produced by Audi. By monitoring and controlling the battery's performance, the BMS helps to ensure that the battery operates efficiently and safely, and that it lasts as long as possible.\"]],\n",
        "    [\"What is the battery management system in an Audi car\", [\"Audi vehicles that use a battery, such as electric or hybrid models, are equipped with a battery management system (BMS) to ensure that the battery operates safely and efficiently. The BMS used in Audi cars is a complex electronic system that monitors and controls the battery's charging and discharging process.\",\n",
        "                                                              \"The Audi BMS constantly monitors the battery's state of charge, temperature, and voltage to ensure that it remains within safe operating limits. The system may also balance the battery cells to prevent premature aging and improve overall performance. Additionally, the BMS provides information to the driver or the vehicle's onboard computer about the battery's status, such as remaining range and estimated time until the battery needs to be recharged.\",\n",
        "                                                              \"Audi's BMS also includes various safety features, such as overcharge and over-discharge protection, to prevent damage to the battery and ensure that it operates safely. If any abnormal conditions are detected, such as a fault in the charging system or an overheating battery, the BMS may also provide warnings or shut down the battery to prevent further damage or potential safety risks.\",\n",
        "                                                              \"Overall, the battery management system is an essential component of electric and hybrid vehicles, including those produced by Audi. By monitoring and controlling the battery's performance, the BMS helps to ensure that the battery operates efficiently and safely, and that it lasts as long as possible.\"]],\n",
        "    [\"Write me a text in French explaining the new hybrid car policy at Audi\", [\"Audi a récemment annoncé sa nouvelle politique en matière de voitures hybrides, dans le but de favoriser une utilisation plus responsable et durable de l'énergie. Cette nouvelle politique met en avant une gamme de véhicules hybrides rechargeables, qui allient les performances et l'efficacité énergétique d'une voiture électrique, avec la flexibilité et l'autonomie d'un moteur à combustion interne.\",\n",
        "                                                                                \"Les nouveaux modèles hybrides d'Audi offrent une autonomie électrique allant jusqu'à 50 kilomètres, ce qui permet une utilisation quotidienne en mode électrique pour la plupart des trajets courts. De plus, la technologie hybride permet une réduction significative des émissions de gaz à effet de serre et une consommation de carburant plus efficace, ce qui contribue à réduire l'impact environnemental de la conduite automobile.\",\n",
        "                                                                                \"Audi encourage également les conducteurs de voitures hybrides à charger leur véhicule régulièrement et à utiliser des sources d'énergie renouvelable pour réduire encore plus leur empreinte carbone. Pour encourager l'adoption de cette technologie, Audi propose des tarifs spéciaux pour les véhicules hybrides rechargeables et travaille en collaboration avec les gouvernements locaux pour faciliter l'installation de bornes de recharge publiques.\",\n",
        "                                                                                \"En somme, la nouvelle politique hybride d'Audi vise à encourager une utilisation plus responsable et durable de l'énergie, tout en offrant des performances et une autonomie équivalentes à celles des voitures à combustion interne traditionnelles. Avec cette nouvelle gamme de voitures hybrides, Audi montre son engagement envers l'environnement et son désir de proposer des solutions innovantes pour un avenir plus durable.\"]],\n",
        "    [\"bye\", [\"Goodbye!\"]],\n",
        "]\n"
      ],
      "metadata": {
        "id": "Dr3MXn9EjY_S"
      },
      "execution_count": 4,
      "outputs": []
    },
    {
      "cell_type": "markdown",
      "source": [
        "## 3. Create a function that will take user input and respond  "
      ],
      "metadata": {
        "id": "9jhgOiQsqBkm"
      }
    },
    {
      "cell_type": "code",
      "source": [
        "# Define a function to start the chatbot\n",
        "def start_chatbot():\n",
        "    chat = Chat(pairs, reflections)\n",
        "    return chat\n",
        "\n",
        "# Start the chatbot loop\n",
        "while True:\n",
        "    # Get user input from the console\n",
        "    user_input = input(\"You: \")\n",
        "    # Get the chatbot response\n",
        "    chat = start_chatbot()\n",
        "    response = chat.respond(user_input)\n",
        "    # Print the response to the console\n",
        "    print(\"AudiKi:\", response)"
      ],
      "metadata": {
        "colab": {
          "base_uri": "https://localhost:8080/",
          "height": 481
        },
        "id": "542KRrmxqMRB",
        "outputId": "97c3d917-367d-4add-e2f7-f0122e1fef0e"
      },
      "execution_count": 5,
      "outputs": [
        {
          "output_type": "stream",
          "name": "stdout",
          "text": [
            "You: bye\n",
            "AudiKi: Goodbye!\n",
            "You: What is the battery management system in an Audi car\n",
            "AudiKi: Audi's BMS also includes various safety features, such as overcharge and over-discharge protection, to prevent damage to the battery and ensure that it operates safely. If any abnormal conditions are detected, such as a fault in the charging system or an overheating battery, the BMS may also provide warnings or shut down the battery to prevent further damage or potential safety risks.\n"
          ]
        },
        {
          "output_type": "error",
          "ename": "KeyboardInterrupt",
          "evalue": "ignored",
          "traceback": [
            "\u001b[0;31m---------------------------------------------------------------------------\u001b[0m",
            "\u001b[0;31mKeyboardInterrupt\u001b[0m                         Traceback (most recent call last)",
            "\u001b[0;32m<ipython-input-5-0b01dbbe8d46>\u001b[0m in \u001b[0;36m<cell line: 9>\u001b[0;34m()\u001b[0m\n\u001b[1;32m      7\u001b[0m \u001b[0;32mwhile\u001b[0m \u001b[0;32mTrue\u001b[0m\u001b[0;34m:\u001b[0m\u001b[0;34m\u001b[0m\u001b[0;34m\u001b[0m\u001b[0m\n\u001b[1;32m      8\u001b[0m     \u001b[0;31m# Get user input from the console\u001b[0m\u001b[0;34m\u001b[0m\u001b[0;34m\u001b[0m\u001b[0m\n\u001b[0;32m----> 9\u001b[0;31m     \u001b[0muser_input\u001b[0m \u001b[0;34m=\u001b[0m \u001b[0minput\u001b[0m\u001b[0;34m(\u001b[0m\u001b[0;34m\"You: \"\u001b[0m\u001b[0;34m)\u001b[0m\u001b[0;34m\u001b[0m\u001b[0;34m\u001b[0m\u001b[0m\n\u001b[0m\u001b[1;32m     10\u001b[0m     \u001b[0;31m# Get the chatbot response\u001b[0m\u001b[0;34m\u001b[0m\u001b[0;34m\u001b[0m\u001b[0m\n\u001b[1;32m     11\u001b[0m     \u001b[0mchat\u001b[0m \u001b[0;34m=\u001b[0m \u001b[0mstart_chatbot\u001b[0m\u001b[0;34m(\u001b[0m\u001b[0;34m)\u001b[0m\u001b[0;34m\u001b[0m\u001b[0;34m\u001b[0m\u001b[0m\n",
            "\u001b[0;32m/usr/local/lib/python3.9/dist-packages/ipykernel/kernelbase.py\u001b[0m in \u001b[0;36mraw_input\u001b[0;34m(self, prompt)\u001b[0m\n\u001b[1;32m    849\u001b[0m                 \u001b[0;34m\"raw_input was called, but this frontend does not support input requests.\"\u001b[0m\u001b[0;34m\u001b[0m\u001b[0;34m\u001b[0m\u001b[0m\n\u001b[1;32m    850\u001b[0m             )\n\u001b[0;32m--> 851\u001b[0;31m         return self._input_request(str(prompt),\n\u001b[0m\u001b[1;32m    852\u001b[0m             \u001b[0mself\u001b[0m\u001b[0;34m.\u001b[0m\u001b[0m_parent_ident\u001b[0m\u001b[0;34m,\u001b[0m\u001b[0;34m\u001b[0m\u001b[0;34m\u001b[0m\u001b[0m\n\u001b[1;32m    853\u001b[0m             \u001b[0mself\u001b[0m\u001b[0;34m.\u001b[0m\u001b[0m_parent_header\u001b[0m\u001b[0;34m,\u001b[0m\u001b[0;34m\u001b[0m\u001b[0;34m\u001b[0m\u001b[0m\n",
            "\u001b[0;32m/usr/local/lib/python3.9/dist-packages/ipykernel/kernelbase.py\u001b[0m in \u001b[0;36m_input_request\u001b[0;34m(self, prompt, ident, parent, password)\u001b[0m\n\u001b[1;32m    893\u001b[0m             \u001b[0;32mexcept\u001b[0m \u001b[0mKeyboardInterrupt\u001b[0m\u001b[0;34m:\u001b[0m\u001b[0;34m\u001b[0m\u001b[0;34m\u001b[0m\u001b[0m\n\u001b[1;32m    894\u001b[0m                 \u001b[0;31m# re-raise KeyboardInterrupt, to truncate traceback\u001b[0m\u001b[0;34m\u001b[0m\u001b[0;34m\u001b[0m\u001b[0m\n\u001b[0;32m--> 895\u001b[0;31m                 \u001b[0;32mraise\u001b[0m \u001b[0mKeyboardInterrupt\u001b[0m\u001b[0;34m(\u001b[0m\u001b[0;34m\"Interrupted by user\"\u001b[0m\u001b[0;34m)\u001b[0m \u001b[0;32mfrom\u001b[0m \u001b[0;32mNone\u001b[0m\u001b[0;34m\u001b[0m\u001b[0;34m\u001b[0m\u001b[0m\n\u001b[0m\u001b[1;32m    896\u001b[0m             \u001b[0;32mexcept\u001b[0m \u001b[0mException\u001b[0m \u001b[0;32mas\u001b[0m \u001b[0me\u001b[0m\u001b[0;34m:\u001b[0m\u001b[0;34m\u001b[0m\u001b[0;34m\u001b[0m\u001b[0m\n\u001b[1;32m    897\u001b[0m                 \u001b[0mself\u001b[0m\u001b[0;34m.\u001b[0m\u001b[0mlog\u001b[0m\u001b[0;34m.\u001b[0m\u001b[0mwarning\u001b[0m\u001b[0;34m(\u001b[0m\u001b[0;34m\"Invalid Message:\"\u001b[0m\u001b[0;34m,\u001b[0m \u001b[0mexc_info\u001b[0m\u001b[0;34m=\u001b[0m\u001b[0;32mTrue\u001b[0m\u001b[0;34m)\u001b[0m\u001b[0;34m\u001b[0m\u001b[0;34m\u001b[0m\u001b[0m\n",
            "\u001b[0;31mKeyboardInterrupt\u001b[0m: Interrupted by user"
          ]
        }
      ]
    },
    {
      "cell_type": "code",
      "source": [],
      "metadata": {
        "id": "p7AsvutVrkVU"
      },
      "execution_count": null,
      "outputs": []
    }
  ]
}